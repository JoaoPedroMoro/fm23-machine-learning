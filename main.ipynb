{
 "cells": [
  {
   "cell_type": "code",
   "execution_count": 2,
   "metadata": {},
   "outputs": [
    {
     "name": "stdout",
     "output_type": "stream",
     "text": [
      "Index(['IDU', 'Inf', 'Nome', 'Clube', 'Posição', 'Melhor Papel', 'Idade',\n",
      "       'Jogos', 'Gls', 'xG', 'xG/90', 'Remt/90', 'Remt/90.1', '% Remates',\n",
      "       'Ast', 'xA', 'xA/90', 'Ps C/90', 'Passes Pr/90', 'PC/90', '% Passe',\n",
      "       'Sof/90', 'xGP/90', '% Df', 'Crz Con/90', 'Crz T/90', 'Fnt/90',\n",
      "       'Cab Dec/90', 'Des Dec/90', 'Des/90', 'M Des', 'Pres C/90',\n",
      "       'Poss Con/90', 'Cl Med', 'Valor Estimado', 'Capacidade', 'Pé Esquerdo',\n",
      "       'Pé Direito', 'Nac', '2ª Nac', 'Altura', 'Personalidade', 'Valor',\n",
      "       'Preço Exigido', 'TSB', 'Soc', 'Acl', 'Agi', 'Agr', 'Aer', 'Ant', 'AF',\n",
      "       'Bra', 'Cab', 'Cnt', 'Cmd', 'Cmp', 'Com', 'Cnc', 'Cruz', 'Decis', 'Des',\n",
      "       'Det', 'Eql', 'Exc', 'Fnl', 'Fnt', 'For', 'Imp', 'Imp.1', 'In Tr',\n",
      "       'Jg Mãos', 'Lan', 'LnçL', 'Lid', 'Liv', 'Mar', 'Pen', 'Pas', 'Pont',\n",
      "       'Pos', 'Pri', 'Ref', 'Rem Lo', 'Res', 'SB', 'Téc', 'Tr Eq', '1x1',\n",
      "       'Vel', 'Vis'],\n",
      "      dtype='object')\n"
     ]
    }
   ],
   "source": [
    "import pandas as pd\n",
    "\n",
    "arquivo = pd.read_csv('jogadores.csv')\n",
    "\n",
    "arquivo.head()\n",
    "\n",
    "print(arquivo.columns)"
   ]
  },
  {
   "cell_type": "markdown",
   "metadata": {},
   "source": [
    "Renomeando todas as colunas para ficar mais fácil a análise e o entendimento."
   ]
  },
  {
   "cell_type": "code",
   "execution_count": null,
   "metadata": {},
   "outputs": [],
   "source": [
    "# Método 2: Renomeando todas as colunas\n",
    "novos_nomes = ['nome_novo1', 'nome_novo2', 'nome_novo3', 'nome_novo4']  # Atualize conforme necessário\n",
    "arquivo.columns = novos_nomes"
   ]
  }
 ],
 "metadata": {
  "kernelspec": {
   "display_name": ".fm",
   "language": "python",
   "name": "python3"
  },
  "language_info": {
   "codemirror_mode": {
    "name": "ipython",
    "version": 3
   },
   "file_extension": ".py",
   "mimetype": "text/x-python",
   "name": "python",
   "nbconvert_exporter": "python",
   "pygments_lexer": "ipython3",
   "version": "3.11.4"
  }
 },
 "nbformat": 4,
 "nbformat_minor": 2
}
