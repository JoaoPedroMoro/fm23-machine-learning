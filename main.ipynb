{
 "cells": [
  {
   "cell_type": "code",
   "execution_count": 6,
   "metadata": {},
   "outputs": [
    {
     "name": "stdout",
     "output_type": "stream",
     "text": [
      "Index(['IDU', 'Inf', 'Nome', 'Clube', 'Posição', 'Melhor Papel', 'Idade',\n",
      "       'Jogos', 'Gls', 'xG', 'xG/90', 'Remt/90', 'Remt/90.1', '% Remates',\n",
      "       'Ast', 'xA', 'xA/90', 'Ps C/90', 'Passes Pr/90', 'PC/90', '% Passe',\n",
      "       'Sof/90', 'xGP/90', '% Df', 'Crz Con/90', 'Crz T/90', 'Fnt/90',\n",
      "       'Cab Dec/90', 'Des Dec/90', 'Des/90', 'M Des', 'Pres C/90',\n",
      "       'Poss Con/90', 'Cl Med', 'Valor Estimado', 'Capacidade', 'Pé Esquerdo',\n",
      "       'Pé Direito', 'Nac', '2ª Nac', 'Altura', 'Personalidade', 'Valor',\n",
      "       'Preço Exigido', 'TSB', 'Soc', 'Acl', 'Agi', 'Agr', 'Aer', 'Ant', 'AF',\n",
      "       'Bra', 'Cab', 'Cnt', 'Cmd', 'Cmp', 'Com', 'Cnc', 'Cruz', 'Decis', 'Des',\n",
      "       'Det', 'Eql', 'Exc', 'Fnl', 'Fnt', 'For', 'Imp', 'Imp.1', 'In Tr',\n",
      "       'Jg Mãos', 'Lan', 'LnçL', 'Lid', 'Liv', 'Mar', 'Pen', 'Pas', 'Pont',\n",
      "       'Pos', 'Pri', 'Ref', 'Rem Lo', 'Res', 'SB', 'Téc', 'Tr Eq', '1x1',\n",
      "       'Vel', 'Vis'],\n",
      "      dtype='object') 91\n"
     ]
    }
   ],
   "source": [
    "import pandas as pd\n",
    "\n",
    "arquivo = pd.read_csv('jogadores.csv')\n",
    "\n",
    "arquivo.head()\n",
    "\n",
    "print(arquivo.columns, len(arquivo.columns))"
   ]
  },
  {
   "cell_type": "markdown",
   "metadata": {},
   "source": [
    "Renomeando todas as colunas para ficar mais fácil a análise e o entendimento."
   ]
  },
  {
   "cell_type": "code",
   "execution_count": 18,
   "metadata": {},
   "outputs": [
    {
     "name": "stdout",
     "output_type": "stream",
     "text": [
      "Index(['ID Único', 'Informação', 'Nome', 'Clube', 'Posição', 'Melhor Papel',\n",
      "       'Idade', 'Jogos', 'Gols', 'Gols esperados', 'Gols esperados por jogo',\n",
      "       'Chutes por jogo', 'Chutes ao gol por jogo',\n",
      "       'Proporção de chutes ao gol', 'Assistências', 'Assistências esperadas',\n",
      "       'Assistências esperadas por jogo', 'Passes completados por jogo',\n",
      "       'Passes em progressão por jogo', 'Passes decisivos por jogo',\n",
      "       'Proporção de passes certos', 'Gols sofridos por jogo',\n",
      "       'Gols esperados evitados por jogo', 'Porcentagem de defesas',\n",
      "       'Cruzamentos realizados por jogo', 'Cruzamentos tentados por jogo',\n",
      "       'Fintas feitas por jogo', 'Cabeceamento decisivos por jogo',\n",
      "       'Desarmes decisivos por jogo', 'Desarmes por jogo',\n",
      "       'Proporção de desarmes por jogo', 'Pressões concluídas por jogo',\n",
      "       'Posse de bola ganha por jogo', 'Classificação média', 'Valor estimado',\n",
      "       'Capacidade', 'Pé esquerdo', 'Pé direito', 'Nacionalidade',\n",
      "       '2a nacionalidade', 'Altura', 'Personalidade', 'Valor', 'Preço Exigido',\n",
      "       'Tendência para saída do gol', 'Tendência para socar', 'Aceleração',\n",
      "       'Agilidade', 'Agressividade', 'Alcance aéreo', 'Antecipação',\n",
      "       'Aptidão física', 'Bravura', 'Cabeceamento', 'Cantos',\n",
      "       'Comando de área', 'Compostura', 'Comunicação', 'Concentração',\n",
      "       'Cruzamentos', 'Decisões', 'Desarme', 'Determinação', 'Equilíbrio',\n",
      "       'Excentricidade', 'Finalização', 'Finta', 'Força', 'Imprevisibilidade',\n",
      "       'Impulsão', 'Índice de trabalho', 'Jogo de mãos', 'Lançamentos',\n",
      "       'Lançamentos longos', 'Liderança', 'Livres', 'Marcação',\n",
      "       'Marcação de penâltis', 'Passe', 'Pontapé', 'Posicionamento',\n",
      "       'Primeiro toque', 'Reflexos', 'Chutes de longe', 'Resistência',\n",
      "       'Sem bola', 'Técnica', 'Trabalho em equipe', 'Um para um', 'Velocidade',\n",
      "       'Visão'],\n",
      "      dtype='object')\n"
     ]
    }
   ],
   "source": [
    "novos_nomes = ['ID Único','Informação','Nome','Clube','Posição','Melhor Papel','Idade',\n",
    "               'Jogos','Gols','Gols esperados','Gols esperados por jogo','Chutes por jogo','Chutes ao gol por jogo','Proporção de chutes ao gol',\n",
    "               'Assistências','Assistências esperadas', 'Assistências esperadas por jogo','Passes completados por jogo','Passes em progressão por jogo','Passes decisivos por jogo','Proporção de passes certos',\n",
    "               'Gols sofridos por jogo','Gols esperados evitados por jogo','Porcentagem de defesas','Cruzamentos realizados por jogo','Cruzamentos tentados por jogo','Fintas feitas por jogo',\n",
    "               'Cabeceamento decisivos por jogo','Desarmes decisivos por jogo','Desarmes por jogo','Proporção de desarmes por jogo','Pressões concluídas por jogo',\n",
    "               'Posse de bola ganha por jogo','Classificação média','Valor estimado','Capacidade','Pé esquerdo',\n",
    "               'Pé direito','Nacionalidade','2a nacionalidade','Altura','Personalidade','Valor',\n",
    "               'Preço Exigido','Tendência para saída do gol','Tendência para socar','Aceleração','Agilidade','Agressividade','Alcance aéreo','Antecipação','Aptidão física',\n",
    "               'Bravura','Cabeceamento','Cantos','Comando de área','Compostura','Comunicação','Concentração','Cruzamentos','Decisões','Desarme',\n",
    "               'Determinação','Equilíbrio','Excentricidade','Finalização','Finta','Força','Imprevisibilidade','Impulsão','Índice de trabalho',\n",
    "               'Jogo de mãos','Lançamentos','Lançamentos longos','Liderança','Livres','Marcação','Marcação de penâltis','Passe','Pontapé',\n",
    "               'Posicionamento','Primeiro toque','Reflexos','Chutes de longe','Resistência','Sem bola','Técnica','Trabalho de equipe','Um para um',\n",
    "               'Velocidade','Visão'] \n",
    "arquivo.columns = novos_nomes\n",
    "print(arquivo.columns)"
   ]
  },
  {
   "cell_type": "markdown",
   "metadata": {},
   "source": [
    "Criação das posições do jogo"
   ]
  },
  {
   "cell_type": "code",
   "execution_count": 23,
   "metadata": {},
   "outputs": [],
   "source": [
    "posicoes ={\n",
    "    \"Guarda redes\": {\"Alcance aéreo\": 1, \"Comando de área\": 1, \"Comunicação\": 1, \"Jogo de mãos\": 1, \"Lançamentos\": 1, \"Pontapé\": 1, \"Reflexos\": 1, \"Um para um\": 1, \"Antecipação\": 1, \"Concentração\": 1, \"Decisões\": 1, \"Posicionamento\": 1, \"Agilidade\": 1},\n",
    "    \"Guarda redes líbero - defender\": {\"Tendência para saída do gol\": 1, \"Alcance aéreo\": 1, \"Comando de área\": 1, \"Comunicação\": 1, \"Jogo de mãos\": 1, \"Lançamentos\": 1, \"Passe\": 1, \"Pontapé\": 1, \"Primeiro toque\": 1, \"Reflexos\": 1, \"Um para um\": 1, \"Antecipação\": 1, \"Compostura\": 1, \"Concentração\": 1, \"Decisões\": 1, \"Posicionamento\": 1, \"Visão de jogo\": 1, \"Aceleração\": 1, \"Agilidade\": 1},\n",
    "    \"Guarda redes líbero - apoiar\": {\"Tendência para saída do gol\": 1, \"Alcance aéreo\": 1, \"Comando de área\": 1, \"Comunicação\": 1, \"Jogo de mãos\": 1, \"Lançamentos\": 1, \"Passe\": 1, \"Pontapé\": 1, \"Primeiro toque\": 1, \"Reflexos\": 1, \"Um para um\": 1, \"Antecipação\": 1, \"Compostura\": 1, \"Concentração\": 1, \"Decisões\": 1, \"Posicionamento\": 1, \"Visão de jogo\": 1, \"Aceleração\": 1, \"Agilidade\": 1},\n",
    "    \"Guarda redes líbero - atacar\": {\"Tendência para saída do gol\": 1, \"Alcance aéreo\": 1, \"Comando de área\": 1, \"Comunicação\": 1, \"Excentricidade\": 1, \"Jogo de mãos\": 1, \"Lançamentos\": 1, \"Passe\": 1, \"Pontapé\": 1, \"Primeiro toque\": 1, \"Reflexos\": 1, \"Um para um\": 1, \"Antecipação\": 1, \"Compostura\": 1, \"Concentração\": 1, \"Decisões\": 1, \"Posicionamento\": 1, \"Visão de jogo\": 1, \"Aceleração\": 1, \"Agilidade\": 1},\n",
    "    'Ala - defender': {\"Cruzamentos\":1,\"Desarmes\":1,\"Finta\":1,\"Marcação\":1,\"Passe\":1,\"Primeiro toque\":1,\"Técnica\":1,\"Antecipação\":1,\"Concentração\":1,\"Decisões\":1,\"Índice de trabalho\":1,\"Posicionamento\":1,\"Sem bola\":1,\"Trabalho de equipe\":1,'Aceleração':1,'Agilidade':1,'Resistência':1,'Velocidade':1},\n",
    "    'Ala - apoiar': {\"Cruzamentos\":1,\"Desarmes\":1,\"Finta\":1,\"Marcação\":1,\"Passe\":1,\"Primeiro toque\":1,\"Técnica\":1,\"Antecipação\":1,\"Concentração\":1,\"Decisões\":1,\"Índice de trabalho\":1,\"Posicionamento\":1,\"Sem bola\":1,\"Trabalho de equipe\":1,'Aceleração':1,'Agilidade':1,'Resistência':1,'Velocidade':1},\n",
    "    'Ala - atacar': {\"Cruzamentos\":1,\"Desarmes\":1,\"Finta\":1,\"Marcação\":1,\"Passe\":1,\"Primeiro toque\":1,\"Técnica\":1,\"Antecipação\":1,\"Concentração\":1,\"Decisões\":1,\"Imprevisibilidade\":1,\"Índice de trabalho\":1,\"Posicionamento\":1,\"Sem bola\":1,\"Trabalho de equipe\":1,'Aceleração':1,'Agilidade':1,'Resistência':1,'Velocidade':1},\n",
    "    'Ala - automático': {\"Cruzamentos\":1,\"Desarmes\":1,\"Finta\":1,\"Marcação\":1,\"Passe\":1,\"Primeiro toque\":1,\"Técnica\":1,\"Antecipação\":1,\"Concentração\":1,\"Decisões\":1,\"Índice de trabalho\":1,\"Posicionamento\":1,\"Sem bola\":1,\"Trabalho de equipe\":1,'Aceleração':1,'Agilidade':1,'Resistência':1,'Velocidade':1},\n",
    "    'Ala completo - apoiar': {\"Cruzamentos\":1,\"Desarme\":1,\"Finta\":1,\"Passe\":1,\"Primeiro toque\":1,\"Técnica\":1,\"Antecipação\":1,\"Compostura\":1,\"Decisões\":1,\"Imprevisibilidade\":1,\"Índice de trabalho\":1,\"Sem bola\":1,\"Trabalho de equipe\":1,\"Aceleração\":1,\"Agilidade\":1,\"Equilíbrio\":1,\"Resistência\":1,\"Velocidade\":1},\n",
    "    'Ala completo - atacar': {\"Cruzamentos\":1,\"Desarme\":1,\"Finta\":1,\"Passe\":1,\"Primeiro toque\":1,\"Técnica\":1,\"Antecipação\":1,\"Compostura\":1,\"Decisões\":1,\"Imprevisibilidade\":1,\"Índice de trabalho\":1,\"Sem bola\":1,\"Trabalho de equipe\":1,\"Aceleração\":1,\"Agilidade\":1,\"Equilíbrio\":1,\"Resistência\":1,\"Velocidade\":1},\n",
    "    'Defesa lateral - defender': {\"Cruzamentos\":1,\"Desarme\":1,\"Marcação\":1,\"Passe\":1,\"Antecipação\":1,\"Compostura\":1,\"Concentração\":1,\"Decisões\":1,\"Posicionamento\":1,\"Trabalho de equipe\":1,\"Resistência\":1,\"Velocidade\":1},\n",
    "    'Defesa lateral - apoiar': {\"Cruzamentos\":1,\"Desarme\":1,\"Finta\":1,\"Marcação\":1,\"Passe\":1,\"Técnica\":1,\"Antecipação\":1,\"Compostura\":1,\"Concentração\":1,\"Decisões\":1,\"Índice de trabalho\":1,\"Posicionamento\":1,\"Trabalho de equipe\":1,\"Resistência\":1,\"Velocidade\":1},\n",
    "    'Defesa lateral - atacar': {\"Cruzamentos\":1,\"Desarme\":1,\"Finta\":1,\"Marcação\":1,\"Passe\":1,\"Primeiro toque\":1,\"Técnica\":1,\"Antecipação\":1,\"Compostura\":1,\"Decisões\":1,\"Índice de trabalho\":1,\"Posicionamento\":1,\"Sem bola\":1,\"Trabalho de equipe\":1,\"Aceleração\":1,\"Agilidade\":1,\"Resistência\":1,\"Velocidade\":1},\n",
    "    'Defesa lateral - automático': {\"Cruzamentos\":1,\"Desarme\":1,\"Finta\":1,\"Marcação\":1,\"Passe\":1,\"Técnica\":1,\"Antecipação\":1,\"Compostura\":1,\"Concentração\":1,\"Decisões\":1,\"Índice de trabalho\":1,\"Posicionamento\":1,\"Trabalho de equipe\":1,\"Resistência\":1,\"Velocidade\":1},\n",
    "    'Lateral descomplicado - defender': {\"Cabeceamento\":1,\"Desarme\":1,\"Marcação\":1,\"Agressividade\":1,\"Antecipação\":1,\"Bravura\":1,\"Concentração\":1,\"Posicionamento\":1,\"Trabalho de equipe\":1,\"Força\":1},\n",
    "    'Defesa ala invertido - defender': {\"Desarme\":1,\"Finta\":1,\"Marcação\":1,\"Passe\":1,\"Primeiro toque\":1,\"Técnica\":1,\"Antecipação\":1,\"Concentração\":1,\"Decisões\":1,\"Índice de trabalho\":1,\"Posicionamento\":1,\"Sem bola\":1,\"Trabalho de equipe\":1,\"Aceleração\":1,\"Agilidade\":1,\"Resistência\":1},\n",
    "    'Defesa ala invertido - apoiar': {\"Desarme\":1,\"Finta\":1,\"Marcação\":1,\"Passe\":1,\"Primeiro toque\":1,\"Técnica\":1,\"Antecipação\":1,\"Compostura\":1,\"Concentração\":1,\"Decisões\":1,\"Índice de trabalho\":1,\"Posicionamento\":1,\"Sem bola\":1,\"Trabalho de equipe\":1,\"Aceleração\":1,\"Agilidade\":1,\"Resistência\":1},\n",
    "    'Defesa ala invertido - atacar': {\"Desarme\":1,\"Finta\":1,\"Marcação\":1,\"Passe\":1,\"Primeiro toque\":1,\"Remates de longe\":'',\"Técnica\":1,\"Antecipação\":1,\"Concentração\":1,\"Decisões\":1,\"Imprevisibilidade\":1,\"Índice de trabalho\":1,\"Posicionamento\":1,\"Sem bola\":1,\"Trabalho de equipe\":1,\"Aceleração\":1,\"Agilidade\":1,\"Resistência\":1,\"Velocidade\":1},\n",
    "    'Defesa ala invertido - automático': {\"Desarme\":1,\"Finta\":1,\"Marcação\":1,\"Passe\":1,\"Primeiro toque\":1,\"Técnica\":1,\"Antecipação\":1,\"Compostura\":1,\"Concentração\":1,\"Decisões\":1,\"Índice de trabalho\":1,\"Posicionamento\":1,\"Sem bola\":1,\"Trabalho de equipe\":1,\"Aceleração\":1,\"Agilidade\":1,\"Resistência\":1},\n",
    "    'Defesa com bola - defender': {\"Cabeceamento\":1,\"Desarme\":1,\"Marcação\":1,\"Passe\":1,\"Primeiro toque\":1,\"Técnica\":1,\"Agressividade\":1,\"Antecipação\":1,\"Bravura\":1,\"Compostura\":1,\"Concentração\":1,\"Decisões\":1,\"Posicionamento\":1,\"Visão de jogo\":1,\"Força\":1,\"Impulsão\":1,\"Velocidade\":1},\n",
    "    'Defesa com bola - bloquear': {\"Cabeceamento\":1,\"Desarme\":1,\"Marcação\":1,\"Passe\":1,\"Primeiro toque\":1,\"Técnica\":1,\"Agressividade\":1,\"Antecipação\":1,\"Bravura\":1,\"Compostura\":1,\"Concentração\":1,\"Decisões\":1,\"Posicionamento\":1,\"Visão de jogo\":1,\"Força\":1,\"Impulsão\":1},\n",
    "    'Defesa com bola - cobrir': {\"Cabeceamento\":1,\"Desarme\":1,\"Marcação\":1,\"Passe\":1,\"Primeiro toque\":1,\"Técnica\":1,\"Antecipação\":1,\"Bravura\":1,\"Compostura\":1,\"Concentração\":1,\"Decisões\":1,\"Posicionamento\":1,\"Visão de jogo\":1,\"Força\":1,\"Impulsão\":1,\"Velocidade\":1},\n",
    "    'Defesa central eficiente - defender': {\"Cabeceamento\":1,\"Desarme\":1,\"Marcação\":1,\"Agressividade\":1,\"Antecipação\":1,\"Bravura\":1,\"Concentração\":1,\"Posicionamento\":1,\"Força\":1,\"Impulsão\":1,\"Velocidade\":1},\n",
    "    'Defesa central eficiente - bloquear': {\"Cabeceamento\":1,\"Desarme\":1,\"Marcação\":1,\"Agressividade\":1,\"Antecipação\":1,\"Bravura\":1,\"Concentração\":1,\"Posicionamento\":1,\"Força\":1,\"Impulsão\":1},\n",
    "    'Defesa central eficiente - cobrir': {\"Cabeceamento\":1,\"Desarme\":1,\"Marcação\":1,\"Antecipação\":1,\"Bravura\":1,\"Concentração\":1,\"Posicionamento\":1,\"Força\":1,\"Impulsão\":1,\"Velocidade\":1},\n",
    "    'Defesa central - defender': {\"Cabeceamento\":1,\"Desarme\":1,\"Marcação\":1,\"Passe\":1,\"Agressividade\":1,\"Antecipação\":1,\"Bravura\":1,\"Compostura\":1,\"Concentração\":1,\"Decisões\":1,\"Posicionamento\":1,\"Força\":1,\"Impulsão\":1,\"Velocidade\":1},\n",
    "    'Defesa central - bloquear': {\"Cabeceamento\":1,\"Desarme\":1,\"Marcação\":1,\"Passe\":1,\"Agressividade\":1,\"Antecipação\":1,\"Bravura\":1,\"Compostura\":1,\"Concentração\":1,\"Decisões\":1,\"Posicionamento\":1,\"Força\":1,\"Impulsão\":1},\n",
    "    'Defesa central - cobrir': {\"Cabeceamento\":1,\"Desarme\":1,\"Marcação\":1,\"Passe\":1,\"Antecipação\":1,\"Bravura\":1,\"Compostura\":1,\"Concentração\":1,\"Decisões\":1,\"Posicionamento\":1,\"Força\":1,\"Impulsão\":1,\"Velocidade\":1},\n",
    "    'Central descaído - defender': {\"Cabeceamento\":1,\"Cruzamentos\":1,\"Desarme\":1,\"Finta\":1,\"Marcação\":1,\"Agressividade\":1,\"Antecipação\":1,\"Bravura\":1,\"Compostura\":1,\"Concentração\":1,\"Decisões\":1,\"Índice de trabalho\":1,\"Posicionamento\":1,\"Força\":1,\"Impulsão\":1,\"Resistência\":1,\"Velocidade\":1},\n",
    "    'Central descaído - apoiar': {\"Cabeceamento\":1,\"Cruzamentos\":1,\"Desarme\":1,\"Finta\":1,\"Marcação\":1,\"Agressividade\":1,\"Antecipação\":1,\"Bravura\":1,\"Compostura\":1,\"Concentração\":1,\"Decisões\":1,\"Índice de trabalho\":1,\"Posicionamento\":1,\"Sem bola\": 1,\"Força\":1,\"Impulsão\":1,\"Resistência\":1,\"Velocidade\":1},\n",
    "    'Central descaído - atacar': {\"Cabeceamento\":1,\"Cruzamentos\":1,\"Desarme\":1,\"Finta\":1,\"Marcação\":1,\"Agressividade\":1,\"Antecipação\":1,\"Bravura\":1,\"Compostura\":1,\"Concentração\":1,\"Decisões\":1,\"Índice de trabalho\":1,\"Posicionamento\":1,\"Sem bola\": 1,\"Força\":1,\"Impulsão\":1,\"Resistência\":1,\"Velocidade\":1},\n",
    "    'Líbero avançado - apoiar': {\"Cabeceamento\":1,\"Desarme\":1,\"Finta\":1,\"Marcação\":1,\"Passe\":1,\"Primeiro toque\":1,\"Técnica\":1,\"Antecipação\":1,\"Bravura\":1,\"Compostura\":1,\"Concentração\":1,\"Decisões\":1,\"Imprevisibilidade\":1,\"Posicionamento\":1,\"Trabalho de equipe\":1,\"Visão de jogo\":1,\"Agilidade\":1,\"Equilíbrio\":1,\"Força\":1,\"Impulsão\":1,\"Resistência\":1,\"Velocidade\":1}\n",
    "    'Líbero avançado - atacar': {\"Cabeceamento\":1,\"Desarme\":1,\"Finta\":1,\"Marcação\":1,\"Passe\":1,\"Primeiro toque\":1,\"Remates de longe\":1,\"Técnica\":1,\"Antecipação\":1,\"Bravura\":1,\"Compostura\":1,\"Concentração\":1,\"Decisões\":1,\"Imprevisibilidade\":1,\"Posicionamento\":1,\"Trabalho de equipe\":1,\"Visão de jogo\":1,\"Aceleração\":1,\"Agilidade\":1,\"Equilíbrio\":1,\"Força\":1,\"Impulsão\":1,\"Resistência\":1,\"Velocidade\":1},\n",
    "}"
   ]
  }
 ],
 "metadata": {
  "kernelspec": {
   "display_name": ".fm",
   "language": "python",
   "name": "python3"
  },
  "language_info": {
   "codemirror_mode": {
    "name": "ipython",
    "version": 3
   },
   "file_extension": ".py",
   "mimetype": "text/x-python",
   "name": "python",
   "nbconvert_exporter": "python",
   "pygments_lexer": "ipython3",
   "version": "3.11.4"
  }
 },
 "nbformat": 4,
 "nbformat_minor": 2
}
